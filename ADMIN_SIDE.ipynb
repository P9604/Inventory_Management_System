{
 "cells": [
  {
   "cell_type": "markdown",
   "id": "ahead-substitute",
   "metadata": {},
   "source": [
    "# OPERATIONS ON INVENTORY \n",
    "<ul>\n",
    "    <li>ADD PRODUCT</li>\n",
    "    <li>MODIFY QUANTITY</li>\n",
    "    <li>MODIFTY PRICE</li>\n",
    "    <li>EDIT NAME</li>\n",
    "    <li>SHOW RECORDS</li>\n",
    "    <li>EXIT</li>\n",
    "<ul>"
   ]
  },
  {
   "cell_type": "code",
   "execution_count": 6,
   "id": "convertible-armenia",
   "metadata": {},
   "outputs": [],
   "source": [
    "fd = open(\"record.json\",'r')\n",
    "r = fd.read()\n",
    "fd.close()"
   ]
  },
  {
   "cell_type": "code",
   "execution_count": 7,
   "id": "reserved-prior",
   "metadata": {},
   "outputs": [],
   "source": [
    "#to convert it into dictionary\n",
    "import json\n",
    "record = json.loads(r)"
   ]
  },
  {
   "cell_type": "code",
   "execution_count": 15,
   "id": "representative-heaven",
   "metadata": {},
   "outputs": [
    {
     "name": "stdout",
     "output_type": "stream",
     "text": [
      "******INVENTORY MANAGEMENT******\n",
      " 1.Add new item: \n",
      " 2.Edit name of the product: \n",
      " 3.Edit Price: \n",
      " 4.Edit quantity: \n",
      " 5.Show all records: \n",
      " 6.Exit \n",
      " 1\n",
      "Enter product_id: 1031\n",
      "Name of the product: Cup\n",
      "Enter price: 50\n",
      "Enter quantity: 60\n",
      " 1.Add new item: \n",
      " 2.Edit name of the product: \n",
      " 3.Edit Price: \n",
      " 4.Edit quantity: \n",
      " 5.Show all records: \n",
      " 6.Exit \n",
      " 2\n",
      "Enter product_id: 1031\n",
      "Name of the product: Glass\n",
      " 1.Add new item: \n",
      " 2.Edit name of the product: \n",
      " 3.Edit Price: \n",
      " 4.Edit quantity: \n",
      " 5.Show all records: \n",
      " 6.Exit \n",
      " 3\n",
      "Enter product_id: 1031\n",
      "Enter price: 40\n",
      " 1.Add new item: \n",
      " 2.Edit name of the product: \n",
      " 3.Edit Price: \n",
      " 4.Edit quantity: \n",
      " 5.Show all records: \n",
      " 6.Exit \n",
      " 4\n",
      "Enter product_id: 4\n",
      "Invalid Product ID!!\n",
      " 1.Add new item: \n",
      " 2.Edit name of the product: \n",
      " 3.Edit Price: \n",
      " 4.Edit quantity: \n",
      " 5.Show all records: \n",
      " 6.Exit \n",
      " 6\n"
     ]
    }
   ],
   "source": [
    "print('******INVENTORY MANAGEMENT******')\n",
    "while True:\n",
    "    op = int(input(' 1.Add new item: \\n 2.Edit name of the product: \\n 3.Edit Price: \\n 4.Edit quantity: \\n 5.Show all records: \\n 6.Exit \\n '))\n",
    "    if op==1:\n",
    "            prod_id = str(input(\"Enter product_id: \"))\n",
    "            if record.get(prod_id,-1) == -1:\n",
    "                    name = str(input(\"Name of the product: \"))\n",
    "                    pr = int(input(\"Enter price: \"))\n",
    "                    qn = int(input(\"Enter quantity: \"))\n",
    "                    record[prod_id] = {'name': name , 'pr':pr , 'qn': qn }\n",
    "            else:\n",
    "                    print(\"prodcutID is already available!!\") \n",
    "    elif  op==2:\n",
    "        prod_id = str(input(\"Enter product_id: \"))\n",
    "        name = str(input(\"Name of the product: \"))\n",
    "        record[prod_id] = {'name': name , 'pr':pr , 'qn': qn }\n",
    "    \n",
    "    elif op ==3:\n",
    "        prod_id = str(input(\"Enter product_id: \"))\n",
    "        pr = int(input(\"Enter price: \"))\n",
    "        record[prod_id] = {'name': name , 'pr':pr , 'qn': qn }\n",
    "    \n",
    "    elif op==4:\n",
    "        prod_id = str(input(\"Enter product_id: \"))\n",
    "        if record.get(prod_id,-1) != -1:\n",
    "            qn = int(input(\"Enter quantity: \"))\n",
    "            record[prod_id] = {'name': name , 'pr':pr ,'qn': record[prod_id]['qn']+qn}\n",
    "        else:\n",
    "            print(\"Invalid Product ID!!\")\n",
    "    \n",
    "    elif op==5:\n",
    "        print(record)\n",
    "    \n",
    "    \n",
    "    elif op==6:\n",
    "        break\n",
    "    \n",
    "    else:\n",
    "        print(\"Invalid choice!!\")\n",
    "    \n",
    "#to save it in same inventory (converting again it to string)\n",
    "js = json.dumps(record)\n",
    "\n",
    "fd = open(\"record.json\",'w')\n",
    "fd.write(js)\n",
    "fd.close()\n"
   ]
  },
  {
   "cell_type": "code",
   "execution_count": 16,
   "id": "sacred-pasta",
   "metadata": {
    "scrolled": true
   },
   "outputs": [
    {
     "data": {
      "text/plain": [
       "{'1001': {'name': 'choco', 'pr': 4, 'qn': 49},\n",
       " '1002': {'name': 'Milk Cake', 'pr': 800, 'qn': 90},\n",
       " '1003': {'name': 'Drink', 'pr': 85, 'qn': 98},\n",
       " '1004': {'name': 'Candy', 'pr': 5, 'qn': 995},\n",
       " '1005': {'name': 'Pen', 'pr': 20, 'qn': 100},\n",
       " '1006': {'name': 'Phone', 'pr': 50000, 'qn': 10},\n",
       " '1007': {'name': 'Mic', 'pr': 1500, 'qn': 0},\n",
       " '1008': {'name': 'Case', 'pr': 599, 'qn': 8},\n",
       " '1009': {'name': 'Keyboard', 'pr': 1999, 'qn': 5},\n",
       " '1010': {'name': 'Pencil', 'pr': 5, 'qn': 52},\n",
       " '1011': {'name': 'Notebook', 'pr': 30, 'qn': 10},\n",
       " '1012': {'name': 'Earphones', 'pr': 100, 'qn': 50},\n",
       " '1013': {'name': 'Sharpner', 'pr': 3, 'qn': 100},\n",
       " '1014': {'name': 'Lamp', 'pr': 300, 'qn': 40},\n",
       " '1015': {'name': 'Ball Pen', 'pr': 20, 'qn': 200},\n",
       " '1016': {'name': 'Acrylic Color', 'pr': 50, 'qn': 21},\n",
       " '1017': {'name': 'Color sheets ', 'pr': 199, 'qn': 50},\n",
       " '1018': {'name': 'Calculator', 'pr': 500, 'qn': 15},\n",
       " '1019': {'name': 'Report file', 'pr': 400, 'qn': 30},\n",
       " '1020': {'name': 'Ruler', 'pr': 10, 'qn': 46},\n",
       " '1021': {'name': 'Gluestick', 'pr': 10, 'qn': 100},\n",
       " '1022': {'name': 'White board', 'pr': 100, 'qn': 3},\n",
       " '1023': {'name': 'Highlighter', 'pr': 20, 'qn': 60},\n",
       " '1024': {'name': 'Eraser', 'pr': 5, 'qn': 100},\n",
       " '1025': {'name': 'Black Pen', 'pr': 5, 'qn': 50},\n",
       " '1026': {'name': 'Brush', 'pr': 10, 'qn': 200},\n",
       " '1027': {'name': 'Marker', 'pr': 30, 'qn': 20},\n",
       " '1028': {'name': 'Long scale', 'pr': 20, 'qn': 40},\n",
       " '1029': {'name': 'Whitener', 'pr': 20, 'qn': 60},\n",
       " '1030': {'name': 'Chalk ', 'pr': 100, 'qn': 60},\n",
       " '100': {'name': 'choco', 'pr': 4, 'qn': 60},\n",
       " '1031': {'name': 'Glass', 'pr': 40, 'qn': 60}}"
      ]
     },
     "execution_count": 16,
     "metadata": {},
     "output_type": "execute_result"
    }
   ],
   "source": [
    "record"
   ]
  }
 ],
 "metadata": {
  "kernelspec": {
   "display_name": "Python 3",
   "language": "python",
   "name": "python3"
  },
  "language_info": {
   "codemirror_mode": {
    "name": "ipython",
    "version": 3
   },
   "file_extension": ".py",
   "mimetype": "text/x-python",
   "name": "python",
   "nbconvert_exporter": "python",
   "pygments_lexer": "ipython3",
   "version": "3.9.5"
  }
 },
 "nbformat": 4,
 "nbformat_minor": 5
}
