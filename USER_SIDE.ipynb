{
 "cells": [
  {
   "cell_type": "markdown",
   "id": "quick-christmas",
   "metadata": {},
   "source": [
    "## USER SIDE"
   ]
  },
  {
   "cell_type": "code",
   "execution_count": 3,
   "id": "owned-inventory",
   "metadata": {},
   "outputs": [],
   "source": [
    "fd = open(\"record.json\",'r')\n",
    "r = fd.read()\n",
    "fd.close()"
   ]
  },
  {
   "cell_type": "code",
   "execution_count": 4,
   "id": "creative-thomson",
   "metadata": {},
   "outputs": [],
   "source": [
    "import json\n",
    "record = json.loads(r)"
   ]
  },
  {
   "cell_type": "code",
   "execution_count": 5,
   "id": "metropolitan-california",
   "metadata": {},
   "outputs": [
    {
     "name": "stdout",
     "output_type": "stream",
     "text": [
      "********CHECKOUT********\n",
      "Enter the product Id: 1024\n",
      "Enter the quantity: 5\n",
      "Product :  Eraser\n",
      "Price :  5\n",
      "**********************\n",
      "Billing Amount: 25\n",
      "**********************\n"
     ]
    }
   ],
   "source": [
    "## bill generation\n",
    " \n",
    "print('********CHECKOUT********')\n",
    "    \n",
    "ui_prod = str(input(\"Enter the product Id: \"))\n",
    "\n",
    "if record.get(ui_prod,-1) != -1:\n",
    "    ui_quant = int(input(\"Enter the quantity: \"))\n",
    "    if record[ui_prod]['qn']== 0:\n",
    "        print(\"Out of stock!!\")\n",
    "    else:\n",
    "        print(\"Product : \",record[ui_prod]['name'])\n",
    "        print(\"Price : \",record[ui_prod]['pr'])\n",
    "        print('**********************')\n",
    "        print('Billing Amount:' , record[ui_prod]['pr'] * ui_quant)\n",
    "        amt = record[ui_prod]['pr'] * ui_quant\n",
    "        print('**********************')\n",
    "        record[ui_prod]['qn'] = record[ui_prod]['qn'] - ui_quant\n",
    "else:\n",
    "    print(\"Invalid Product ID!!\")\n",
    "        "
   ]
  },
  {
   "cell_type": "code",
   "execution_count": 6,
   "id": "institutional-somalia",
   "metadata": {},
   "outputs": [],
   "source": [
    "#update inventory after purchasing\n",
    "\n",
    "inven = json.dumps(record)\n",
    "\n",
    "fd = open('record.json','w')\n",
    "\n",
    "fd.write(inven)\n",
    "fd.close()"
   ]
  },
  {
   "cell_type": "markdown",
   "id": "nuclear-lottery",
   "metadata": {},
   "source": [
    "## SALES"
   ]
  },
  {
   "cell_type": "code",
   "execution_count": 7,
   "id": "animal-insider",
   "metadata": {},
   "outputs": [],
   "source": [
    "s = open(\"sales.json\",'r')\n",
    "r = s.read()\n",
    "s.close()"
   ]
  },
  {
   "cell_type": "code",
   "execution_count": 8,
   "id": "still-providence",
   "metadata": {
    "scrolled": true
   },
   "outputs": [],
   "source": [
    "sale = json.loads(r)"
   ]
  },
  {
   "cell_type": "code",
   "execution_count": 9,
   "id": "single-aberdeen",
   "metadata": {},
   "outputs": [],
   "source": [
    "#sale = {'prod' : ui_prod , 'qn' : ui_quant , 'amount': amt}\n",
    "if ui_prod not in sale.keys():\n",
    "    sale[ui_prod] = {'Product Name' : record [ui_prod]['name'],'Amount' :amt}\n",
    "else:\n",
    "    sale[ui_prod]['Amount']+= amt\n",
    "        \n",
    "js = json . dumps(sale)\n",
    "    \n",
    "s =open(\"sales.json\",'w')\n",
    "s.write(js)\n",
    "s.close()"
   ]
  }
 ],
 "metadata": {
  "kernelspec": {
   "display_name": "Python 3",
   "language": "python",
   "name": "python3"
  },
  "language_info": {
   "codemirror_mode": {
    "name": "ipython",
    "version": 3
   },
   "file_extension": ".py",
   "mimetype": "text/x-python",
   "name": "python",
   "nbconvert_exporter": "python",
   "pygments_lexer": "ipython3",
   "version": "3.9.5"
  }
 },
 "nbformat": 4,
 "nbformat_minor": 5
}
